{
 "cells": [
  {
   "cell_type": "code",
   "execution_count": 142,
   "id": "44cb4443-a223-406d-9eb3-5b47a648c7a6",
   "metadata": {},
   "outputs": [],
   "source": [
    "#bibliotecas\n",
    "from sqlalchemy import create_engine\n",
    "import pandas as pd\n",
    "import matplotlib.pyplot as plt\n",
    "import streamlit as st\n",
    "import datetime as dt\n",
    "import seaborn as sns"
   ]
  },
  {
   "cell_type": "code",
   "execution_count": 14,
   "id": "42f023cd-84df-44e0-a652-97cf423c20dc",
   "metadata": {},
   "outputs": [
    {
     "name": "stdout",
     "output_type": "stream",
     "text": [
      "Conectado com sucesso!\n"
     ]
    }
   ],
   "source": [
    "#acesso ao banco de dados\n",
    "user = 'postgres'\n",
    "password = 'postgres'\n",
    "host = 'localhost'\n",
    "port = '5432'\n",
    "database = 'northwind'\n",
    "\n",
    "# Conexão\n",
    "engine = create_engine(f'postgresql://{user}:{password}@{host}:{port}/{database}')\n",
    "connection = engine.connect()\n",
    "\n",
    "print(\"Conectado com sucesso!\")"
   ]
  },
  {
   "cell_type": "code",
   "execution_count": 48,
   "id": "7e385ce7-0543-4cee-ae84-e9aed4e7f8fa",
   "metadata": {},
   "outputs": [],
   "source": [
    "#leitura das tabelas principais\n",
    "customers = pd.read_sql('select * from customers',connection)\n",
    "orders = pd.read_sql('select * from orders',connection)\n",
    "order_details = pd.read_sql('select * from order_details', connection)"
   ]
  },
  {
   "cell_type": "code",
   "execution_count": 26,
   "id": "a3ecbd8e-5595-4228-bad6-f90c25cfee7c",
   "metadata": {},
   "outputs": [
    {
     "data": {
      "text/html": [
       "<div>\n",
       "<style scoped>\n",
       "    .dataframe tbody tr th:only-of-type {\n",
       "        vertical-align: middle;\n",
       "    }\n",
       "\n",
       "    .dataframe tbody tr th {\n",
       "        vertical-align: top;\n",
       "    }\n",
       "\n",
       "    .dataframe thead th {\n",
       "        text-align: right;\n",
       "    }\n",
       "</style>\n",
       "<table border=\"1\" class=\"dataframe\">\n",
       "  <thead>\n",
       "    <tr style=\"text-align: right;\">\n",
       "      <th></th>\n",
       "      <th>customer_id</th>\n",
       "      <th>company_name</th>\n",
       "      <th>contact_name</th>\n",
       "      <th>contact_title</th>\n",
       "      <th>address</th>\n",
       "      <th>city</th>\n",
       "      <th>region</th>\n",
       "      <th>postal_code</th>\n",
       "      <th>country</th>\n",
       "      <th>phone</th>\n",
       "      <th>fax</th>\n",
       "    </tr>\n",
       "  </thead>\n",
       "  <tbody>\n",
       "    <tr>\n",
       "      <th>0</th>\n",
       "      <td>ALFKI</td>\n",
       "      <td>Alfreds Futterkiste</td>\n",
       "      <td>Maria Anders</td>\n",
       "      <td>Sales Representative</td>\n",
       "      <td>Obere Str. 57</td>\n",
       "      <td>Berlin</td>\n",
       "      <td>None</td>\n",
       "      <td>12209</td>\n",
       "      <td>Germany</td>\n",
       "      <td>030-0074321</td>\n",
       "      <td>030-0076545</td>\n",
       "    </tr>\n",
       "  </tbody>\n",
       "</table>\n",
       "</div>"
      ],
      "text/plain": [
       "  customer_id         company_name  contact_name         contact_title  \\\n",
       "0       ALFKI  Alfreds Futterkiste  Maria Anders  Sales Representative   \n",
       "\n",
       "         address    city region postal_code  country        phone          fax  \n",
       "0  Obere Str. 57  Berlin   None       12209  Germany  030-0074321  030-0076545  "
      ]
     },
     "execution_count": 26,
     "metadata": {},
     "output_type": "execute_result"
    }
   ],
   "source": [
    "customers.head(1)\n"
   ]
  },
  {
   "cell_type": "code",
   "execution_count": 27,
   "id": "c796aa22-4fd6-419f-9853-eeb27f775a18",
   "metadata": {},
   "outputs": [
    {
     "data": {
      "text/html": [
       "<div>\n",
       "<style scoped>\n",
       "    .dataframe tbody tr th:only-of-type {\n",
       "        vertical-align: middle;\n",
       "    }\n",
       "\n",
       "    .dataframe tbody tr th {\n",
       "        vertical-align: top;\n",
       "    }\n",
       "\n",
       "    .dataframe thead th {\n",
       "        text-align: right;\n",
       "    }\n",
       "</style>\n",
       "<table border=\"1\" class=\"dataframe\">\n",
       "  <thead>\n",
       "    <tr style=\"text-align: right;\">\n",
       "      <th></th>\n",
       "      <th>order_id</th>\n",
       "      <th>customer_id</th>\n",
       "      <th>employee_id</th>\n",
       "      <th>order_date</th>\n",
       "      <th>required_date</th>\n",
       "      <th>shipped_date</th>\n",
       "      <th>ship_via</th>\n",
       "      <th>freight</th>\n",
       "      <th>ship_name</th>\n",
       "      <th>ship_address</th>\n",
       "      <th>ship_city</th>\n",
       "      <th>ship_region</th>\n",
       "      <th>ship_postal_code</th>\n",
       "      <th>ship_country</th>\n",
       "    </tr>\n",
       "  </thead>\n",
       "  <tbody>\n",
       "    <tr>\n",
       "      <th>0</th>\n",
       "      <td>10248</td>\n",
       "      <td>VINET</td>\n",
       "      <td>5</td>\n",
       "      <td>1996-07-04</td>\n",
       "      <td>1996-08-01</td>\n",
       "      <td>1996-07-16</td>\n",
       "      <td>3</td>\n",
       "      <td>32.38</td>\n",
       "      <td>Vins et alcools Chevalier</td>\n",
       "      <td>59 rue de l'Abbaye</td>\n",
       "      <td>Reims</td>\n",
       "      <td>None</td>\n",
       "      <td>51100</td>\n",
       "      <td>France</td>\n",
       "    </tr>\n",
       "  </tbody>\n",
       "</table>\n",
       "</div>"
      ],
      "text/plain": [
       "   order_id customer_id  employee_id  order_date required_date shipped_date  \\\n",
       "0     10248       VINET            5  1996-07-04    1996-08-01   1996-07-16   \n",
       "\n",
       "   ship_via  freight                  ship_name        ship_address ship_city  \\\n",
       "0         3    32.38  Vins et alcools Chevalier  59 rue de l'Abbaye     Reims   \n",
       "\n",
       "  ship_region ship_postal_code ship_country  \n",
       "0        None            51100       France  "
      ]
     },
     "execution_count": 27,
     "metadata": {},
     "output_type": "execute_result"
    }
   ],
   "source": [
    "orders.head(1)\n"
   ]
  },
  {
   "cell_type": "code",
   "execution_count": 28,
   "id": "b7bf725e-e54f-4109-8a39-507528710c49",
   "metadata": {},
   "outputs": [
    {
     "data": {
      "text/html": [
       "<div>\n",
       "<style scoped>\n",
       "    .dataframe tbody tr th:only-of-type {\n",
       "        vertical-align: middle;\n",
       "    }\n",
       "\n",
       "    .dataframe tbody tr th {\n",
       "        vertical-align: top;\n",
       "    }\n",
       "\n",
       "    .dataframe thead th {\n",
       "        text-align: right;\n",
       "    }\n",
       "</style>\n",
       "<table border=\"1\" class=\"dataframe\">\n",
       "  <thead>\n",
       "    <tr style=\"text-align: right;\">\n",
       "      <th></th>\n",
       "      <th>order_id</th>\n",
       "      <th>product_id</th>\n",
       "      <th>unit_price</th>\n",
       "      <th>quantity</th>\n",
       "      <th>discount</th>\n",
       "    </tr>\n",
       "  </thead>\n",
       "  <tbody>\n",
       "    <tr>\n",
       "      <th>0</th>\n",
       "      <td>10248</td>\n",
       "      <td>11</td>\n",
       "      <td>14.0</td>\n",
       "      <td>12</td>\n",
       "      <td>0.0</td>\n",
       "    </tr>\n",
       "  </tbody>\n",
       "</table>\n",
       "</div>"
      ],
      "text/plain": [
       "   order_id  product_id  unit_price  quantity  discount\n",
       "0     10248          11        14.0        12       0.0"
      ]
     },
     "execution_count": 28,
     "metadata": {},
     "output_type": "execute_result"
    }
   ],
   "source": [
    "orders_details.head(1)"
   ]
  },
  {
   "cell_type": "raw",
   "id": "b60048be-0408-4184-a528-c498a6a5239e",
   "metadata": {},
   "source": [
    "------------ RFM - Recência (Recency), Frequência e Valor Monetário (Monetary) -------------"
   ]
  },
  {
   "cell_type": "code",
   "execution_count": 71,
   "id": "5b293532-50b6-4958-b43f-fba3b4a9f920",
   "metadata": {},
   "outputs": [
    {
     "data": {
      "text/html": [
       "<div>\n",
       "<style scoped>\n",
       "    .dataframe tbody tr th:only-of-type {\n",
       "        vertical-align: middle;\n",
       "    }\n",
       "\n",
       "    .dataframe tbody tr th {\n",
       "        vertical-align: top;\n",
       "    }\n",
       "\n",
       "    .dataframe thead th {\n",
       "        text-align: right;\n",
       "    }\n",
       "</style>\n",
       "<table border=\"1\" class=\"dataframe\">\n",
       "  <thead>\n",
       "    <tr style=\"text-align: right;\">\n",
       "      <th></th>\n",
       "      <th>customer_id</th>\n",
       "      <th>recencia_dias</th>\n",
       "      <th>frequencia_pedidos</th>\n",
       "      <th>valor_total_gasto</th>\n",
       "    </tr>\n",
       "  </thead>\n",
       "  <tbody>\n",
       "    <tr>\n",
       "      <th>0</th>\n",
       "      <td>ALFKI</td>\n",
       "      <td>27</td>\n",
       "      <td>6</td>\n",
       "      <td>12</td>\n",
       "    </tr>\n",
       "  </tbody>\n",
       "</table>\n",
       "</div>"
      ],
      "text/plain": [
       "  customer_id  recencia_dias  frequencia_pedidos  valor_total_gasto\n",
       "0       ALFKI             27                   6                 12"
      ]
     },
     "execution_count": 71,
     "metadata": {},
     "output_type": "execute_result"
    }
   ],
   "source": [
    "#CONSTRUINDO AS MÉTRICAS DO RFM\n",
    "\n",
    "#Recência — Quantos dias desde a última compra\n",
    "\n",
    "data_referencia = orders['order_date'].max()\n",
    "\n",
    "def calcula_recencia(grupo):\n",
    "    ultima_data = grupo['order_date'].max()\n",
    "    return (data_referencia - ultima_data).days\n",
    "\n",
    "recencia = orders.groupby('customer_id').apply(calcula_recencia).reset_index(name='recencia_dias')\n",
    "\n",
    "\n",
    "#Frequencia \n",
    "\n",
    "frequencia = orders.groupby('customer_id').agg({\n",
    "    'order_id':'count'\n",
    "}).reset_index().rename(columns={'order_id':'frequencia_pedidos'})\n",
    "\n",
    "\n",
    "#Monetario\n",
    "\n",
    "#unindo tabela orders com tabela orders_details\n",
    "\n",
    "pedidos_detalhes = orders.merge(order_details, on='order_id')\n",
    "\n",
    "\n",
    "#criando uma coluna com o valor total de cada item comprado\n",
    "\n",
    "pedidos_detalhes['valor_total'] = pedidos_detalhes['unit_price'] * pedidos_detalhes['quantity']\n",
    "\n",
    "monetario = pedidos_detalhes.groupby('customer_id').agg({\n",
    "    'valor_total':'sum'\n",
    "}).reset_index().rename(columns={'valor_total':'valor_total_gasto'})\n",
    "\n",
    "\n",
    "#unindo o RFM\n",
    "\n",
    "rfm = recencia.merge(frequencia, on='customer_id').merge(monetario, on='customer_id')\n",
    "\n",
    "rfm.head(1)\n"
   ]
  },
  {
   "cell_type": "code",
   "execution_count": 72,
   "id": "902a941e-8ee0-42ee-8641-4d9d84972548",
   "metadata": {
    "collapsed": true,
    "jupyter": {
     "outputs_hidden": true
    },
    "scrolled": true
   },
   "outputs": [
    {
     "data": {
      "text/html": [
       "<div>\n",
       "<style scoped>\n",
       "    .dataframe tbody tr th:only-of-type {\n",
       "        vertical-align: middle;\n",
       "    }\n",
       "\n",
       "    .dataframe tbody tr th {\n",
       "        vertical-align: top;\n",
       "    }\n",
       "\n",
       "    .dataframe thead th {\n",
       "        text-align: right;\n",
       "    }\n",
       "</style>\n",
       "<table border=\"1\" class=\"dataframe\">\n",
       "  <thead>\n",
       "    <tr style=\"text-align: right;\">\n",
       "      <th></th>\n",
       "      <th>customer_id</th>\n",
       "      <th>recencia_dias</th>\n",
       "      <th>frequencia_pedidos</th>\n",
       "      <th>valor_total_gasto</th>\n",
       "    </tr>\n",
       "  </thead>\n",
       "  <tbody>\n",
       "    <tr>\n",
       "      <th>68</th>\n",
       "      <td>SAVEA</td>\n",
       "      <td>5</td>\n",
       "      <td>31</td>\n",
       "      <td>116</td>\n",
       "    </tr>\n",
       "    <tr>\n",
       "      <th>19</th>\n",
       "      <td>ERNSH</td>\n",
       "      <td>1</td>\n",
       "      <td>30</td>\n",
       "      <td>102</td>\n",
       "    </tr>\n",
       "    <tr>\n",
       "      <th>60</th>\n",
       "      <td>QUICK</td>\n",
       "      <td>22</td>\n",
       "      <td>28</td>\n",
       "      <td>86</td>\n",
       "    </tr>\n",
       "    <tr>\n",
       "      <th>62</th>\n",
       "      <td>RATTC</td>\n",
       "      <td>0</td>\n",
       "      <td>18</td>\n",
       "      <td>71</td>\n",
       "    </tr>\n",
       "    <tr>\n",
       "      <th>35</th>\n",
       "      <td>HUNGO</td>\n",
       "      <td>6</td>\n",
       "      <td>19</td>\n",
       "      <td>55</td>\n",
       "    </tr>\n",
       "    <tr>\n",
       "      <th>4</th>\n",
       "      <td>BERGS</td>\n",
       "      <td>63</td>\n",
       "      <td>18</td>\n",
       "      <td>52</td>\n",
       "    </tr>\n",
       "    <tr>\n",
       "      <th>23</th>\n",
       "      <td>FRANK</td>\n",
       "      <td>27</td>\n",
       "      <td>15</td>\n",
       "      <td>48</td>\n",
       "    </tr>\n",
       "    <tr>\n",
       "      <th>22</th>\n",
       "      <td>FOLKO</td>\n",
       "      <td>9</td>\n",
       "      <td>19</td>\n",
       "      <td>45</td>\n",
       "    </tr>\n",
       "    <tr>\n",
       "      <th>33</th>\n",
       "      <td>HILAA</td>\n",
       "      <td>8</td>\n",
       "      <td>18</td>\n",
       "      <td>45</td>\n",
       "    </tr>\n",
       "    <tr>\n",
       "      <th>8</th>\n",
       "      <td>BONAP</td>\n",
       "      <td>0</td>\n",
       "      <td>17</td>\n",
       "      <td>44</td>\n",
       "    </tr>\n",
       "  </tbody>\n",
       "</table>\n",
       "</div>"
      ],
      "text/plain": [
       "   customer_id  recencia_dias  frequencia_pedidos  valor_total_gasto\n",
       "68       SAVEA              5                  31                116\n",
       "19       ERNSH              1                  30                102\n",
       "60       QUICK             22                  28                 86\n",
       "62       RATTC              0                  18                 71\n",
       "35       HUNGO              6                  19                 55\n",
       "4        BERGS             63                  18                 52\n",
       "23       FRANK             27                  15                 48\n",
       "22       FOLKO              9                  19                 45\n",
       "33       HILAA              8                  18                 45\n",
       "8        BONAP              0                  17                 44"
      ]
     },
     "execution_count": 72,
     "metadata": {},
     "output_type": "execute_result"
    }
   ],
   "source": [
    "#TOP 10 CLIENTES MAIS RENTÁVEIS\n",
    "\n",
    "rfm.sort_values('valor_total_gasto',ascending=False).head(10)"
   ]
  },
  {
   "cell_type": "code",
   "execution_count": 73,
   "id": "362f8439-bbe6-4287-bbd1-d485c439b4f7",
   "metadata": {
    "collapsed": true,
    "jupyter": {
     "outputs_hidden": true
    },
    "scrolled": true
   },
   "outputs": [
    {
     "data": {
      "text/html": [
       "<div>\n",
       "<style scoped>\n",
       "    .dataframe tbody tr th:only-of-type {\n",
       "        vertical-align: middle;\n",
       "    }\n",
       "\n",
       "    .dataframe tbody tr th {\n",
       "        vertical-align: top;\n",
       "    }\n",
       "\n",
       "    .dataframe thead th {\n",
       "        text-align: right;\n",
       "    }\n",
       "</style>\n",
       "<table border=\"1\" class=\"dataframe\">\n",
       "  <thead>\n",
       "    <tr style=\"text-align: right;\">\n",
       "      <th></th>\n",
       "      <th>customer_id</th>\n",
       "      <th>recencia_dias</th>\n",
       "      <th>frequencia_pedidos</th>\n",
       "      <th>valor_total_gasto</th>\n",
       "    </tr>\n",
       "  </thead>\n",
       "  <tbody>\n",
       "    <tr>\n",
       "      <th>68</th>\n",
       "      <td>SAVEA</td>\n",
       "      <td>5</td>\n",
       "      <td>31</td>\n",
       "      <td>116</td>\n",
       "    </tr>\n",
       "    <tr>\n",
       "      <th>19</th>\n",
       "      <td>ERNSH</td>\n",
       "      <td>1</td>\n",
       "      <td>30</td>\n",
       "      <td>102</td>\n",
       "    </tr>\n",
       "    <tr>\n",
       "      <th>60</th>\n",
       "      <td>QUICK</td>\n",
       "      <td>22</td>\n",
       "      <td>28</td>\n",
       "      <td>86</td>\n",
       "    </tr>\n",
       "    <tr>\n",
       "      <th>35</th>\n",
       "      <td>HUNGO</td>\n",
       "      <td>6</td>\n",
       "      <td>19</td>\n",
       "      <td>55</td>\n",
       "    </tr>\n",
       "    <tr>\n",
       "      <th>22</th>\n",
       "      <td>FOLKO</td>\n",
       "      <td>9</td>\n",
       "      <td>19</td>\n",
       "      <td>45</td>\n",
       "    </tr>\n",
       "    <tr>\n",
       "      <th>4</th>\n",
       "      <td>BERGS</td>\n",
       "      <td>63</td>\n",
       "      <td>18</td>\n",
       "      <td>52</td>\n",
       "    </tr>\n",
       "    <tr>\n",
       "      <th>62</th>\n",
       "      <td>RATTC</td>\n",
       "      <td>0</td>\n",
       "      <td>18</td>\n",
       "      <td>71</td>\n",
       "    </tr>\n",
       "    <tr>\n",
       "      <th>33</th>\n",
       "      <td>HILAA</td>\n",
       "      <td>8</td>\n",
       "      <td>18</td>\n",
       "      <td>45</td>\n",
       "    </tr>\n",
       "    <tr>\n",
       "      <th>8</th>\n",
       "      <td>BONAP</td>\n",
       "      <td>0</td>\n",
       "      <td>17</td>\n",
       "      <td>44</td>\n",
       "    </tr>\n",
       "    <tr>\n",
       "      <th>42</th>\n",
       "      <td>LEHMS</td>\n",
       "      <td>1</td>\n",
       "      <td>15</td>\n",
       "      <td>39</td>\n",
       "    </tr>\n",
       "  </tbody>\n",
       "</table>\n",
       "</div>"
      ],
      "text/plain": [
       "   customer_id  recencia_dias  frequencia_pedidos  valor_total_gasto\n",
       "68       SAVEA              5                  31                116\n",
       "19       ERNSH              1                  30                102\n",
       "60       QUICK             22                  28                 86\n",
       "35       HUNGO              6                  19                 55\n",
       "22       FOLKO              9                  19                 45\n",
       "4        BERGS             63                  18                 52\n",
       "62       RATTC              0                  18                 71\n",
       "33       HILAA              8                  18                 45\n",
       "8        BONAP              0                  17                 44\n",
       "42       LEHMS              1                  15                 39"
      ]
     },
     "execution_count": 73,
     "metadata": {},
     "output_type": "execute_result"
    }
   ],
   "source": [
    "#TOP 10 CLIENTES MAIS FREQUENTES \n",
    "\n",
    "rfm.sort_values('frequencia_pedidos',ascending=False).head(10)"
   ]
  },
  {
   "cell_type": "code",
   "execution_count": 75,
   "id": "14f6f2b3-71f2-4f5e-bf54-0ba9216e5469",
   "metadata": {
    "collapsed": true,
    "jupyter": {
     "outputs_hidden": true
    }
   },
   "outputs": [
    {
     "data": {
      "text/html": [
       "<div>\n",
       "<style scoped>\n",
       "    .dataframe tbody tr th:only-of-type {\n",
       "        vertical-align: middle;\n",
       "    }\n",
       "\n",
       "    .dataframe tbody tr th {\n",
       "        vertical-align: top;\n",
       "    }\n",
       "\n",
       "    .dataframe thead th {\n",
       "        text-align: right;\n",
       "    }\n",
       "</style>\n",
       "<table border=\"1\" class=\"dataframe\">\n",
       "  <thead>\n",
       "    <tr style=\"text-align: right;\">\n",
       "      <th></th>\n",
       "      <th>customer_id</th>\n",
       "      <th>recencia_dias</th>\n",
       "      <th>frequencia_pedidos</th>\n",
       "      <th>valor_total_gasto</th>\n",
       "    </tr>\n",
       "  </thead>\n",
       "  <tbody>\n",
       "    <tr>\n",
       "      <th>70</th>\n",
       "      <td>SIMOB</td>\n",
       "      <td>0</td>\n",
       "      <td>7</td>\n",
       "      <td>15</td>\n",
       "    </tr>\n",
       "    <tr>\n",
       "      <th>62</th>\n",
       "      <td>RATTC</td>\n",
       "      <td>0</td>\n",
       "      <td>18</td>\n",
       "      <td>71</td>\n",
       "    </tr>\n",
       "    <tr>\n",
       "      <th>65</th>\n",
       "      <td>RICSU</td>\n",
       "      <td>0</td>\n",
       "      <td>10</td>\n",
       "      <td>30</td>\n",
       "    </tr>\n",
       "    <tr>\n",
       "      <th>8</th>\n",
       "      <td>BONAP</td>\n",
       "      <td>0</td>\n",
       "      <td>17</td>\n",
       "      <td>44</td>\n",
       "    </tr>\n",
       "    <tr>\n",
       "      <th>44</th>\n",
       "      <td>LILAS</td>\n",
       "      <td>1</td>\n",
       "      <td>14</td>\n",
       "      <td>34</td>\n",
       "    </tr>\n",
       "    <tr>\n",
       "      <th>42</th>\n",
       "      <td>LEHMS</td>\n",
       "      <td>1</td>\n",
       "      <td>15</td>\n",
       "      <td>39</td>\n",
       "    </tr>\n",
       "    <tr>\n",
       "      <th>19</th>\n",
       "      <td>ERNSH</td>\n",
       "      <td>1</td>\n",
       "      <td>30</td>\n",
       "      <td>102</td>\n",
       "    </tr>\n",
       "    <tr>\n",
       "      <th>55</th>\n",
       "      <td>PERIC</td>\n",
       "      <td>1</td>\n",
       "      <td>6</td>\n",
       "      <td>14</td>\n",
       "    </tr>\n",
       "    <tr>\n",
       "      <th>16</th>\n",
       "      <td>DRACD</td>\n",
       "      <td>2</td>\n",
       "      <td>6</td>\n",
       "      <td>10</td>\n",
       "    </tr>\n",
       "    <tr>\n",
       "      <th>59</th>\n",
       "      <td>QUEEN</td>\n",
       "      <td>2</td>\n",
       "      <td>13</td>\n",
       "      <td>40</td>\n",
       "    </tr>\n",
       "  </tbody>\n",
       "</table>\n",
       "</div>"
      ],
      "text/plain": [
       "   customer_id  recencia_dias  frequencia_pedidos  valor_total_gasto\n",
       "70       SIMOB              0                   7                 15\n",
       "62       RATTC              0                  18                 71\n",
       "65       RICSU              0                  10                 30\n",
       "8        BONAP              0                  17                 44\n",
       "44       LILAS              1                  14                 34\n",
       "42       LEHMS              1                  15                 39\n",
       "19       ERNSH              1                  30                102\n",
       "55       PERIC              1                   6                 14\n",
       "16       DRACD              2                   6                 10\n",
       "59       QUEEN              2                  13                 40"
      ]
     },
     "execution_count": 75,
     "metadata": {},
     "output_type": "execute_result"
    }
   ],
   "source": [
    "#TOP 10 CLIENTES MAIS RECENTES\n",
    "\n",
    "rfm.sort_values('recencia_dias',ascending=True).head(10)"
   ]
  },
  {
   "cell_type": "code",
   "execution_count": 77,
   "id": "33022cea-7c46-4a4a-8e63-ee87a8dd9f2d",
   "metadata": {
    "collapsed": true,
    "jupyter": {
     "outputs_hidden": true
    }
   },
   "outputs": [
    {
     "data": {
      "text/html": [
       "<div>\n",
       "<style scoped>\n",
       "    .dataframe tbody tr th:only-of-type {\n",
       "        vertical-align: middle;\n",
       "    }\n",
       "\n",
       "    .dataframe tbody tr th {\n",
       "        vertical-align: top;\n",
       "    }\n",
       "\n",
       "    .dataframe thead th {\n",
       "        text-align: right;\n",
       "    }\n",
       "</style>\n",
       "<table border=\"1\" class=\"dataframe\">\n",
       "  <thead>\n",
       "    <tr style=\"text-align: right;\">\n",
       "      <th></th>\n",
       "      <th>recencia_dias</th>\n",
       "      <th>frequencia_pedidos</th>\n",
       "      <th>valor_total_gasto</th>\n",
       "    </tr>\n",
       "  </thead>\n",
       "  <tbody>\n",
       "    <tr>\n",
       "      <th>count</th>\n",
       "      <td>89.000000</td>\n",
       "      <td>89.000000</td>\n",
       "      <td>89.000000</td>\n",
       "    </tr>\n",
       "    <tr>\n",
       "      <th>mean</th>\n",
       "      <td>51.561798</td>\n",
       "      <td>9.325843</td>\n",
       "      <td>24.213483</td>\n",
       "    </tr>\n",
       "    <tr>\n",
       "      <th>std</th>\n",
       "      <td>87.484278</td>\n",
       "      <td>5.810991</td>\n",
       "      <td>19.793520</td>\n",
       "    </tr>\n",
       "    <tr>\n",
       "      <th>min</th>\n",
       "      <td>0.000000</td>\n",
       "      <td>1.000000</td>\n",
       "      <td>2.000000</td>\n",
       "    </tr>\n",
       "    <tr>\n",
       "      <th>25%</th>\n",
       "      <td>8.000000</td>\n",
       "      <td>5.000000</td>\n",
       "      <td>11.000000</td>\n",
       "    </tr>\n",
       "    <tr>\n",
       "      <th>50%</th>\n",
       "      <td>23.000000</td>\n",
       "      <td>8.000000</td>\n",
       "      <td>20.000000</td>\n",
       "    </tr>\n",
       "    <tr>\n",
       "      <th>75%</th>\n",
       "      <td>58.000000</td>\n",
       "      <td>12.000000</td>\n",
       "      <td>31.000000</td>\n",
       "    </tr>\n",
       "    <tr>\n",
       "      <th>max</th>\n",
       "      <td>657.000000</td>\n",
       "      <td>31.000000</td>\n",
       "      <td>116.000000</td>\n",
       "    </tr>\n",
       "  </tbody>\n",
       "</table>\n",
       "</div>"
      ],
      "text/plain": [
       "       recencia_dias  frequencia_pedidos  valor_total_gasto\n",
       "count      89.000000           89.000000          89.000000\n",
       "mean       51.561798            9.325843          24.213483\n",
       "std        87.484278            5.810991          19.793520\n",
       "min         0.000000            1.000000           2.000000\n",
       "25%         8.000000            5.000000          11.000000\n",
       "50%        23.000000            8.000000          20.000000\n",
       "75%        58.000000           12.000000          31.000000\n",
       "max       657.000000           31.000000         116.000000"
      ]
     },
     "execution_count": 77,
     "metadata": {},
     "output_type": "execute_result"
    }
   ],
   "source": [
    "#estatisticas descritivas gerais\n",
    "\n",
    "rfm.describe()\n"
   ]
  },
  {
   "cell_type": "code",
   "execution_count": 84,
   "id": "90eba8ac-8c16-4260-bd63-4fa5d7fb7429",
   "metadata": {
    "collapsed": true,
    "jupyter": {
     "outputs_hidden": true
    }
   },
   "outputs": [
    {
     "data": {
      "image/png": "[encoded data removed]",
      "text/plain": [
       "<Figure size 640x480 with 1 Axes>"
      ]
     },
     "metadata": {},
     "output_type": "display_data"
    },
    {
     "data": {
      "image/png": "[encoded data removed]",
      "text/plain": [
       "<Figure size 640x480 with 1 Axes>"
      ]
     },
     "metadata": {},
     "output_type": "display_data"
    },
    {
     "data": {
      "image/png": "[encoded data removed]",
      "text/plain": [
       "<Figure size 640x480 with 1 Axes>"
      ]
     },
     "metadata": {},
     "output_type": "display_data"
    }
   ],
   "source": [
    "#Distribuição das variáveis com histograma\n",
    "\n",
    "#recencia\n",
    "plt.hist(rfm['recencia_dias'],bins=20)\n",
    "plt.title('Distribuição da Recência (dias)')\n",
    "plt.xlabel('Dias desde a ultima compra')\n",
    "plt.ylabel('Quantidade de Clientes')\n",
    "plt.show()\n",
    "\n",
    "#frequencia \n",
    "plt.hist(rfm['frequencia_pedidos'],bins=20)\n",
    "plt.title('Distriuição da Frequência')\n",
    "plt.xlabel('Frequencia')\n",
    "plt.ylabel('Quantidade de Clientes')\n",
    "plt.show()\n",
    "\n",
    "#monetario\n",
    "plt.hist(rfm['valor_total_gasto'])\n",
    "plt.title('Distribuição Valor Gasto')\n",
    "plt.xlabel('Valor Gasto')\n",
    "plt.ylabel('Quantidade de Clientes')\n",
    "plt.show()"
   ]
  },
  {
   "cell_type": "code",
   "execution_count": 90,
   "id": "0be3acfe-8e35-4400-b2a6-33ae0cd747c8",
   "metadata": {
    "collapsed": true,
    "jupyter": {
     "outputs_hidden": true
    }
   },
   "outputs": [
    {
     "data": {
      "image/png": "[encoded data removed]",
      "text/plain": [
       "<Figure size 640x480 with 1 Axes>"
      ]
     },
     "metadata": {},
     "output_type": "display_data"
    },
    {
     "data": {
      "image/png": "[encoded data removed]",
      "text/plain": [
       "<Figure size 640x480 with 1 Axes>"
      ]
     },
     "metadata": {},
     "output_type": "display_data"
    },
    {
     "data": {
      "image/png": "[encoded data removed]",
      "text/plain": [
       "<Figure size 640x480 with 1 Axes>"
      ]
     },
     "metadata": {},
     "output_type": "display_data"
    }
   ],
   "source": [
    "#Outliers com boxplot \n",
    "\n",
    "#recencia\n",
    "plt.boxplot(rfm['recencia_dias'])\n",
    "plt.title('Boxplot da Recência')\n",
    "plt.show()\n",
    "\n",
    "#frenquencia\n",
    "plt.boxplot(rfm['frequencia_pedidos'])\n",
    "plt.title('Boxplot da Frequencia')\n",
    "plt.show()\n",
    "\n",
    "#monetario\n",
    "plt.boxplot(rfm['valor_total_gasto'])\n",
    "plt.title('Boxplot do Valor Gasto')\n",
    "plt.show()"
   ]
  },
  {
   "cell_type": "code",
   "execution_count": 85,
   "id": "12226a20-770f-41cc-bbec-e0e2fb6806af",
   "metadata": {},
   "outputs": [
    {
     "data": {
      "text/html": [
       "<div>\n",
       "<style scoped>\n",
       "    .dataframe tbody tr th:only-of-type {\n",
       "        vertical-align: middle;\n",
       "    }\n",
       "\n",
       "    .dataframe tbody tr th {\n",
       "        vertical-align: top;\n",
       "    }\n",
       "\n",
       "    .dataframe thead th {\n",
       "        text-align: right;\n",
       "    }\n",
       "</style>\n",
       "<table border=\"1\" class=\"dataframe\">\n",
       "  <thead>\n",
       "    <tr style=\"text-align: right;\">\n",
       "      <th></th>\n",
       "      <th>recencia_dias</th>\n",
       "      <th>frequencia_pedidos</th>\n",
       "      <th>valor_total_gasto</th>\n",
       "    </tr>\n",
       "  </thead>\n",
       "  <tbody>\n",
       "    <tr>\n",
       "      <th>recencia_dias</th>\n",
       "      <td>1.000000</td>\n",
       "      <td>-0.351218</td>\n",
       "      <td>-0.299776</td>\n",
       "    </tr>\n",
       "    <tr>\n",
       "      <th>frequencia_pedidos</th>\n",
       "      <td>-0.351218</td>\n",
       "      <td>1.000000</td>\n",
       "      <td>0.968291</td>\n",
       "    </tr>\n",
       "    <tr>\n",
       "      <th>valor_total_gasto</th>\n",
       "      <td>-0.299776</td>\n",
       "      <td>0.968291</td>\n",
       "      <td>1.000000</td>\n",
       "    </tr>\n",
       "  </tbody>\n",
       "</table>\n",
       "</div>"
      ],
      "text/plain": [
       "                    recencia_dias  frequencia_pedidos  valor_total_gasto\n",
       "recencia_dias            1.000000           -0.351218          -0.299776\n",
       "frequencia_pedidos      -0.351218            1.000000           0.968291\n",
       "valor_total_gasto       -0.299776            0.968291           1.000000"
      ]
     },
     "execution_count": 85,
     "metadata": {},
     "output_type": "execute_result"
    }
   ],
   "source": [
    "#Correlação entre R, F e M\n",
    "\n",
    "rfm[['recencia_dias', 'frequencia_pedidos','valor_total_gasto']].corr()"
   ]
  },
  {
   "cell_type": "code",
   "execution_count": 87,
   "id": "36b1ae22-4f62-45af-ae39-8abc30676a88",
   "metadata": {},
   "outputs": [
    {
     "data": {
      "image/png": "[encoded data removed]",
      "text/plain": [
       "<Figure size 800x600 with 2 Axes>"
      ]
     },
     "metadata": {},
     "output_type": "display_data"
    }
   ],
   "source": [
    "#Heatmap de correlação do RFM\n",
    "\n",
    "correlacao = rfm[['recencia_dias', 'frequencia_pedidos','valor_total_gasto']].corr()\n",
    "\n",
    "plt.figure(figsize=(8,6))\n",
    "\n",
    "sns.heatmap(correlacao, annot=True, cmap='Blues', fmt=\".2f\")\n",
    "\n",
    "plt.title('Heatmap de Correlação entre RFM')\n",
    "plt.show()"
   ]
  },
  {
   "cell_type": "code",
   "execution_count": 91,
   "id": "030068c4-77ed-4b2c-a65a-add55213d0df",
   "metadata": {},
   "outputs": [
    {
     "data": {
      "image/png": "[encoded data removed]",
      "text/plain": [
       "<Figure size 800x600 with 1 Axes>"
      ]
     },
     "metadata": {},
     "output_type": "display_data"
    }
   ],
   "source": [
    "#grafico de dispersao com Scatter Plot - Relação entre frequencia e monetário\n",
    "\n",
    "plt.figure(figsize=(8,6))\n",
    "\n",
    "plt.scatter(rfm['frequencia_pedidos'], rfm['valor_total_gasto'], alpha=0.6)\n",
    "plt.title('Relação entre frequencia de pedidos e valor total gasto')\n",
    "plt.xlabel('Frequencia de pedidos')\n",
    "plt.ylabel('Valor total gasto (R$)')\n",
    "plt.grid(True)\n",
    "plt.show()"
   ]
  },
  {
   "cell_type": "code",
   "execution_count": 95,
   "id": "e33e1d10-0610-4bce-90a6-27707d0e6d38",
   "metadata": {
    "collapsed": true,
    "jupyter": {
     "outputs_hidden": true
    }
   },
   "outputs": [
    {
     "data": {
      "text/html": [
       "<div>\n",
       "<style scoped>\n",
       "    .dataframe tbody tr th:only-of-type {\n",
       "        vertical-align: middle;\n",
       "    }\n",
       "\n",
       "    .dataframe tbody tr th {\n",
       "        vertical-align: top;\n",
       "    }\n",
       "\n",
       "    .dataframe thead th {\n",
       "        text-align: right;\n",
       "    }\n",
       "</style>\n",
       "<table border=\"1\" class=\"dataframe\">\n",
       "  <thead>\n",
       "    <tr style=\"text-align: right;\">\n",
       "      <th></th>\n",
       "      <th>customer_id</th>\n",
       "      <th>recencia_dias</th>\n",
       "      <th>frequencia_pedidos</th>\n",
       "      <th>valor_total_gasto</th>\n",
       "      <th>status_cliente</th>\n",
       "    </tr>\n",
       "  </thead>\n",
       "  <tbody>\n",
       "    <tr>\n",
       "      <th>0</th>\n",
       "      <td>ALFKI</td>\n",
       "      <td>27</td>\n",
       "      <td>6</td>\n",
       "      <td>12</td>\n",
       "      <td>Cliente Ativo</td>\n",
       "    </tr>\n",
       "    <tr>\n",
       "      <th>1</th>\n",
       "      <td>ANATR</td>\n",
       "      <td>63</td>\n",
       "      <td>4</td>\n",
       "      <td>10</td>\n",
       "      <td>Risco de Churn</td>\n",
       "    </tr>\n",
       "    <tr>\n",
       "      <th>2</th>\n",
       "      <td>ANTON</td>\n",
       "      <td>98</td>\n",
       "      <td>7</td>\n",
       "      <td>17</td>\n",
       "      <td>Inativo</td>\n",
       "    </tr>\n",
       "    <tr>\n",
       "      <th>3</th>\n",
       "      <td>AROUT</td>\n",
       "      <td>26</td>\n",
       "      <td>13</td>\n",
       "      <td>30</td>\n",
       "      <td>Cliente Ativo</td>\n",
       "    </tr>\n",
       "    <tr>\n",
       "      <th>4</th>\n",
       "      <td>BERGS</td>\n",
       "      <td>63</td>\n",
       "      <td>18</td>\n",
       "      <td>52</td>\n",
       "      <td>Risco de Churn</td>\n",
       "    </tr>\n",
       "    <tr>\n",
       "      <th>...</th>\n",
       "      <td>...</td>\n",
       "      <td>...</td>\n",
       "      <td>...</td>\n",
       "      <td>...</td>\n",
       "      <td>...</td>\n",
       "    </tr>\n",
       "    <tr>\n",
       "      <th>84</th>\n",
       "      <td>WARTH</td>\n",
       "      <td>21</td>\n",
       "      <td>15</td>\n",
       "      <td>37</td>\n",
       "      <td>Cliente Ativo</td>\n",
       "    </tr>\n",
       "    <tr>\n",
       "      <th>85</th>\n",
       "      <td>WELLI</td>\n",
       "      <td>58</td>\n",
       "      <td>9</td>\n",
       "      <td>19</td>\n",
       "      <td>Risco de Churn</td>\n",
       "    </tr>\n",
       "    <tr>\n",
       "      <th>86</th>\n",
       "      <td>WHITC</td>\n",
       "      <td>5</td>\n",
       "      <td>14</td>\n",
       "      <td>40</td>\n",
       "      <td>Cliente Ativo</td>\n",
       "    </tr>\n",
       "    <tr>\n",
       "      <th>87</th>\n",
       "      <td>WILMK</td>\n",
       "      <td>29</td>\n",
       "      <td>7</td>\n",
       "      <td>17</td>\n",
       "      <td>Cliente Ativo</td>\n",
       "    </tr>\n",
       "    <tr>\n",
       "      <th>88</th>\n",
       "      <td>WOLZA</td>\n",
       "      <td>13</td>\n",
       "      <td>7</td>\n",
       "      <td>16</td>\n",
       "      <td>Cliente Ativo</td>\n",
       "    </tr>\n",
       "  </tbody>\n",
       "</table>\n",
       "<p>89 rows × 5 columns</p>\n",
       "</div>"
      ],
      "text/plain": [
       "   customer_id  recencia_dias  frequencia_pedidos  valor_total_gasto  \\\n",
       "0        ALFKI             27                   6                 12   \n",
       "1        ANATR             63                   4                 10   \n",
       "2        ANTON             98                   7                 17   \n",
       "3        AROUT             26                  13                 30   \n",
       "4        BERGS             63                  18                 52   \n",
       "..         ...            ...                 ...                ...   \n",
       "84       WARTH             21                  15                 37   \n",
       "85       WELLI             58                   9                 19   \n",
       "86       WHITC              5                  14                 40   \n",
       "87       WILMK             29                   7                 17   \n",
       "88       WOLZA             13                   7                 16   \n",
       "\n",
       "    status_cliente  \n",
       "0    Cliente Ativo  \n",
       "1   Risco de Churn  \n",
       "2          Inativo  \n",
       "3    Cliente Ativo  \n",
       "4   Risco de Churn  \n",
       "..             ...  \n",
       "84   Cliente Ativo  \n",
       "85  Risco de Churn  \n",
       "86   Cliente Ativo  \n",
       "87   Cliente Ativo  \n",
       "88   Cliente Ativo  \n",
       "\n",
       "[89 rows x 5 columns]"
      ]
     },
     "execution_count": 95,
     "metadata": {},
     "output_type": "execute_result"
    }
   ],
   "source": [
    "#Segmentação dos clientes com base na recencia\n",
    "\n",
    "#0 30 dias - ativo\n",
    "#31 a 90 dias - risco de churn\n",
    "#>90 inativo\n",
    "\n",
    "def segmenta_cliente (recencia):\n",
    "    if recencia <= 30:\n",
    "        return 'Cliente Ativo'\n",
    "    elif recencia <= 90:\n",
    "        return 'Risco de Churn'\n",
    "    else: \n",
    "        return 'Inativo'\n",
    "\n",
    "rfm['status_cliente'] = rfm['recencia_dias'].apply(segmenta_cliente)\n"
   ]
  },
  {
   "cell_type": "code",
   "execution_count": 110,
   "id": "2c8aa453-ca24-4ae8-9543-65f235fb4b35",
   "metadata": {},
   "outputs": [
    {
     "data": {
      "text/html": [
       "<div>\n",
       "<style scoped>\n",
       "    .dataframe tbody tr th:only-of-type {\n",
       "        vertical-align: middle;\n",
       "    }\n",
       "\n",
       "    .dataframe tbody tr th {\n",
       "        vertical-align: top;\n",
       "    }\n",
       "\n",
       "    .dataframe thead th {\n",
       "        text-align: right;\n",
       "    }\n",
       "</style>\n",
       "<table border=\"1\" class=\"dataframe\">\n",
       "  <thead>\n",
       "    <tr style=\"text-align: right;\">\n",
       "      <th></th>\n",
       "      <th>status_cliente</th>\n",
       "      <th>qnt_clientes</th>\n",
       "    </tr>\n",
       "  </thead>\n",
       "  <tbody>\n",
       "    <tr>\n",
       "      <th>0</th>\n",
       "      <td>Cliente Ativo</td>\n",
       "      <td>54</td>\n",
       "    </tr>\n",
       "    <tr>\n",
       "      <th>1</th>\n",
       "      <td>Inativo</td>\n",
       "      <td>16</td>\n",
       "    </tr>\n",
       "    <tr>\n",
       "      <th>2</th>\n",
       "      <td>Risco de Churn</td>\n",
       "      <td>19</td>\n",
       "    </tr>\n",
       "  </tbody>\n",
       "</table>\n",
       "</div>"
      ],
      "text/plain": [
       "   status_cliente  qnt_clientes\n",
       "0   Cliente Ativo            54\n",
       "1         Inativo            16\n",
       "2  Risco de Churn            19"
      ]
     },
     "execution_count": 110,
     "metadata": {},
     "output_type": "execute_result"
    }
   ],
   "source": [
    "#contagem de clientes por grupo de status\n",
    "\n",
    "count_status = rfm.groupby('status_cliente').agg({\n",
    "    'customer_id':'nunique'\n",
    "}).reset_index().rename(columns={'customer_id':'qnt_clientes'})\n",
    "\n",
    "count_status"
   ]
  },
  {
   "cell_type": "code",
   "execution_count": 111,
   "id": "e9fa4771-8ec8-4800-90d7-4bc65e2ffd7a",
   "metadata": {},
   "outputs": [
    {
     "data": {
      "image/png": "[encoded data removed]",
      "text/plain": [
       "<Figure size 800x800 with 1 Axes>"
      ]
     },
     "metadata": {},
     "output_type": "display_data"
    }
   ],
   "source": [
    "#grafico de pizza da qnt de clientes por status\n",
    "\n",
    "plt.figure(figsize=(8,8))\n",
    "\n",
    "# Criando o gráfico de pizza\n",
    "plt.pie(\n",
    "    count_status['qnt_clientes'],                    # Os valores que definem o tamanho de cada fatia\n",
    "    labels=count_status['status_cliente'],           # Os nomes de cada fatia\n",
    "    autopct='%1.1f%%',                               # Exibe os percentuais com uma casa decimal\n",
    "    startangle=140,                                  # Rotaciona o início da pizza (pode mudar se quiser)\n",
    "    colors=plt.cm.Paired.colors                      # Paleta de cores pronta (pode testar outras)\n",
    ")\n",
    "\n",
    "# Título do gráfico\n",
    "plt.title('Distribuição Percentual de Clientes por Status')\n",
    "\n",
    "# Faz o gráfico ficar redondo\n",
    "plt.axis('equal')\n",
    "\n",
    "# Exibe o gráfico\n",
    "plt.show()\n",
    "\n"
   ]
  },
  {
   "cell_type": "code",
   "execution_count": 112,
   "id": "a831e1bc-fb7e-4cba-9793-d61fce82dc18",
   "metadata": {},
   "outputs": [
    {
     "data": {
      "text/html": [
       "<div>\n",
       "<style scoped>\n",
       "    .dataframe tbody tr th:only-of-type {\n",
       "        vertical-align: middle;\n",
       "    }\n",
       "\n",
       "    .dataframe tbody tr th {\n",
       "        vertical-align: top;\n",
       "    }\n",
       "\n",
       "    .dataframe thead th {\n",
       "        text-align: right;\n",
       "    }\n",
       "</style>\n",
       "<table border=\"1\" class=\"dataframe\">\n",
       "  <thead>\n",
       "    <tr style=\"text-align: right;\">\n",
       "      <th></th>\n",
       "      <th>customer_id</th>\n",
       "      <th>recencia_dias</th>\n",
       "      <th>frequencia_pedidos</th>\n",
       "      <th>valor_total_gasto</th>\n",
       "      <th>status_cliente</th>\n",
       "    </tr>\n",
       "  </thead>\n",
       "  <tbody>\n",
       "    <tr>\n",
       "      <th>0</th>\n",
       "      <td>ALFKI</td>\n",
       "      <td>27</td>\n",
       "      <td>6</td>\n",
       "      <td>12</td>\n",
       "      <td>Cliente Ativo</td>\n",
       "    </tr>\n",
       "  </tbody>\n",
       "</table>\n",
       "</div>"
      ],
      "text/plain": [
       "  customer_id  recencia_dias  frequencia_pedidos  valor_total_gasto  \\\n",
       "0       ALFKI             27                   6                 12   \n",
       "\n",
       "  status_cliente  \n",
       "0  Cliente Ativo  "
      ]
     },
     "execution_count": 112,
     "metadata": {},
     "output_type": "execute_result"
    }
   ],
   "source": [
    "rfm.head(1)"
   ]
  },
  {
   "cell_type": "code",
   "execution_count": 130,
   "id": "0a3f3f33-1e81-46d5-b408-b4979c027901",
   "metadata": {},
   "outputs": [
    {
     "data": {
      "text/html": [
       "<div>\n",
       "<style scoped>\n",
       "    .dataframe tbody tr th:only-of-type {\n",
       "        vertical-align: middle;\n",
       "    }\n",
       "\n",
       "    .dataframe tbody tr th {\n",
       "        vertical-align: top;\n",
       "    }\n",
       "\n",
       "    .dataframe thead th {\n",
       "        text-align: right;\n",
       "    }\n",
       "</style>\n",
       "<table border=\"1\" class=\"dataframe\">\n",
       "  <thead>\n",
       "    <tr style=\"text-align: right;\">\n",
       "      <th></th>\n",
       "      <th>status_cliente</th>\n",
       "      <th>valor_medio_gasto</th>\n",
       "      <th>frequencia_media</th>\n",
       "      <th>recencia_media</th>\n",
       "    </tr>\n",
       "  </thead>\n",
       "  <tbody>\n",
       "    <tr>\n",
       "      <th>0</th>\n",
       "      <td>Cliente Ativo</td>\n",
       "      <td>29.944444</td>\n",
       "      <td>11.240741</td>\n",
       "      <td>12.592593</td>\n",
       "    </tr>\n",
       "    <tr>\n",
       "      <th>1</th>\n",
       "      <td>Inativo</td>\n",
       "      <td>14.062500</td>\n",
       "      <td>5.750000</td>\n",
       "      <td>183.062500</td>\n",
       "    </tr>\n",
       "    <tr>\n",
       "      <th>2</th>\n",
       "      <td>Risco de Churn</td>\n",
       "      <td>16.473684</td>\n",
       "      <td>6.894737</td>\n",
       "      <td>51.578947</td>\n",
       "    </tr>\n",
       "  </tbody>\n",
       "</table>\n",
       "</div>"
      ],
      "text/plain": [
       "   status_cliente  valor_medio_gasto  frequencia_media  recencia_media\n",
       "0   Cliente Ativo          29.944444         11.240741       12.592593\n",
       "1         Inativo          14.062500          5.750000      183.062500\n",
       "2  Risco de Churn          16.473684          6.894737       51.578947"
      ]
     },
     "execution_count": 130,
     "metadata": {},
     "output_type": "execute_result"
    }
   ],
   "source": [
    "#KPIS medios por grupo de status\n",
    "\n",
    "comparativo_status = rfm.groupby('status_cliente').agg({\n",
    "    'valor_total_gasto':'mean',\n",
    "    'frequencia_pedidos':'mean',\n",
    "    'recencia_dias':'mean'\n",
    "}).reset_index().rename(columns={'valor_total_gasto':'valor_medio_gasto',\n",
    "                                 'frequencia_pedidos':'frequencia_media',\n",
    "                                 'recencia_dias':'recencia_media'})\n",
    "\n",
    "\n",
    "comparativo_status"
   ]
  },
  {
   "cell_type": "code",
   "execution_count": 133,
   "id": "ca3a3f46-a2c6-46e5-8972-d49bef2c2dda",
   "metadata": {
    "scrolled": true
   },
   "outputs": [
    {
     "data": {
      "image/png": "[encoded data removed]",
      "text/plain": [
       "<Figure size 800x600 with 1 Axes>"
      ]
     },
     "metadata": {},
     "output_type": "display_data"
    }
   ],
   "source": [
    "# grafico comparativo gasto medio por status\n",
    "\n",
    "plt.figure(figsize=(8,6))\n",
    "plt.bar(comparativo_status['status_cliente'], comparativo_status['valor_medio_gasto'], color='salmon')\n",
    "plt.title('Gasto Médio por Cliente - Por Status')\n",
    "plt.xlabel('Status do Cliente')\n",
    "plt.ylabel('Gasto Médio (R$)')\n",
    "plt.xticks(rotation=45)\n",
    "plt.grid(axis='y', linestyle='--', alpha=0.7)\n",
    "plt.show()\n"
   ]
  },
  {
   "cell_type": "code",
   "execution_count": 134,
   "id": "c5a85820-512c-4bbb-8687-b13e3973837f",
   "metadata": {
    "scrolled": true
   },
   "outputs": [
    {
     "data": {
      "image/png": "[encoded data removed]",
      "text/plain": [
       "<Figure size 800x600 with 1 Axes>"
      ]
     },
     "metadata": {},
     "output_type": "display_data"
    }
   ],
   "source": [
    "# grafico frequencia media por status\n",
    "\n",
    "plt.figure(figsize=(8,6))\n",
    "plt.bar(comparativo_status['status_cliente'], comparativo_status['frequencia_media'], color='lightgreen')\n",
    "plt.title('Frequência Média de Pedidos - Por Status')\n",
    "plt.xlabel('Status do Cliente')\n",
    "plt.ylabel('Número Médio de Pedidos')\n",
    "plt.xticks(rotation=45)\n",
    "plt.grid(axis='y', linestyle='--', alpha=0.7)\n",
    "plt.show()\n"
   ]
  },
  {
   "cell_type": "code",
   "execution_count": null,
   "id": "42cd2741-707d-4672-a0f6-97d168797128",
   "metadata": {},
   "outputs": [],
   "source": []
  },
  {
   "cell_type": "code",
   "execution_count": null,
   "id": "28002e72-6f77-4a26-b376-caeddc4fa920",
   "metadata": {},
   "outputs": [],
   "source": []
  },
  {
   "cell_type": "code",
   "execution_count": null,
   "id": "74c1276b-2aff-46b6-85d5-5e7cb8c939a4",
   "metadata": {},
   "outputs": [],
   "source": []
  },
  {
   "cell_type": "code",
   "execution_count": null,
   "id": "8a139b43-a519-4488-b3ea-6eda5f0f91d8",
   "metadata": {},
   "outputs": [],
   "source": []
  },
  {
   "cell_type": "code",
   "execution_count": null,
   "id": "815acbd8-4776-47a5-8235-486ad1e2b6cb",
   "metadata": {},
   "outputs": [],
   "source": []
  },
  {
   "cell_type": "code",
   "execution_count": null,
   "id": "97b83efd-a54b-43dc-969a-6864445223b3",
   "metadata": {},
   "outputs": [],
   "source": []
  },
  {
   "cell_type": "code",
   "execution_count": null,
   "id": "25d0c719-5042-4074-8f16-66352dd00506",
   "metadata": {},
   "outputs": [],
   "source": []
  },
  {
   "cell_type": "code",
   "execution_count": null,
   "id": "ed4b92c1-b6f8-4878-92ba-8e2a370f78d9",
   "metadata": {},
   "outputs": [],
   "source": []
  },
  {
   "cell_type": "code",
   "execution_count": null,
   "id": "8618e004-de91-4581-ac5b-24d7d6de2613",
   "metadata": {},
   "outputs": [],
   "source": []
  },
  {
   "cell_type": "code",
   "execution_count": null,
   "id": "44f9c5df-4e22-4f4f-b10d-4b72f49ad022",
   "metadata": {},
   "outputs": [],
   "source": []
  },
  {
   "cell_type": "code",
   "execution_count": null,
   "id": "5f0dcc4b-3f9c-44e5-9e75-bf8faa874691",
   "metadata": {},
   "outputs": [],
   "source": []
  },
  {
   "cell_type": "code",
   "execution_count": null,
   "id": "8ee24a8b-e1d6-4d08-bf69-b9da5d1b348f",
   "metadata": {},
   "outputs": [],
   "source": []
  },
  {
   "cell_type": "code",
   "execution_count": null,
   "id": "d556501d-07e3-4e6d-bd89-753a1f769383",
   "metadata": {},
   "outputs": [],
   "source": []
  },
  {
   "cell_type": "code",
   "execution_count": null,
   "id": "9c8bfe82-a145-4b4f-b895-39ee0b24d119",
   "metadata": {},
   "outputs": [],
   "source": []
  },
  {
   "cell_type": "code",
   "execution_count": null,
   "id": "6f922359-d161-4841-9da4-d2e9ba2e03d4",
   "metadata": {},
   "outputs": [],
   "source": []
  },
  {
   "cell_type": "code",
   "execution_count": null,
   "id": "feb35978-e498-4d64-811b-9f8fe7b58ad8",
   "metadata": {},
   "outputs": [],
   "source": []
  },
  {
   "cell_type": "code",
   "execution_count": null,
   "id": "0d839f3f-5139-489e-9fd4-1e41eab707ca",
   "metadata": {},
   "outputs": [],
   "source": []
  },
  {
   "cell_type": "code",
   "execution_count": null,
   "id": "6a8b02ce-af54-4c92-80a8-6a6ebcd3ffa5",
   "metadata": {},
   "outputs": [],
   "source": []
  },
  {
   "cell_type": "code",
   "execution_count": null,
   "id": "c9020046-b480-412d-a845-76c14db009fc",
   "metadata": {},
   "outputs": [],
   "source": []
  },
  {
   "cell_type": "code",
   "execution_count": null,
   "id": "1216eb97-507f-4f5b-9982-a35dab117a42",
   "metadata": {},
   "outputs": [],
   "source": []
  },
  {
   "cell_type": "code",
   "execution_count": null,
   "id": "6cd46a47-f977-426c-90e4-9dc839ec7516",
   "metadata": {},
   "outputs": [],
   "source": []
  },
  {
   "cell_type": "code",
   "execution_count": null,
   "id": "aa58a722-f532-41bc-9bda-de75bbdbe0eb",
   "metadata": {},
   "outputs": [],
   "source": []
  },
  {
   "cell_type": "code",
   "execution_count": null,
   "id": "3fbe7cec-7545-4376-b885-e6a96b84067e",
   "metadata": {},
   "outputs": [],
   "source": []
  },
  {
   "cell_type": "code",
   "execution_count": null,
   "id": "11b08131-3073-4924-8bdf-17c62b4bc808",
   "metadata": {},
   "outputs": [],
   "source": []
  },
  {
   "cell_type": "code",
   "execution_count": null,
   "id": "6db1af9c-018c-4aa4-bd32-77811e5e0b84",
   "metadata": {},
   "outputs": [],
   "source": []
  },
  {
   "cell_type": "code",
   "execution_count": null,
   "id": "fa32f60a-cc5c-4d2a-a711-c6799dd590a6",
   "metadata": {},
   "outputs": [],
   "source": []
  },
  {
   "cell_type": "code",
   "execution_count": null,
   "id": "f79e68a6-bdbc-444f-a460-a49b47810441",
   "metadata": {},
   "outputs": [],
   "source": []
  },
  {
   "cell_type": "code",
   "execution_count": null,
   "id": "4812f823-4496-4a9b-9568-bc3237bb8eb8",
   "metadata": {},
   "outputs": [],
   "source": []
  },
  {
   "cell_type": "code",
   "execution_count": null,
   "id": "cb7075a9-9cef-489b-8ccd-d7517f553c94",
   "metadata": {},
   "outputs": [],
   "source": []
  },
  {
   "cell_type": "code",
   "execution_count": null,
   "id": "b176b058-9c13-4641-a36d-c17a4210c049",
   "metadata": {},
   "outputs": [],
   "source": []
  },
  {
   "cell_type": "code",
   "execution_count": null,
   "id": "7fb415db-bdd7-421f-a1e6-992b6faf69e7",
   "metadata": {},
   "outputs": [],
   "source": []
  },
  {
   "cell_type": "code",
   "execution_count": null,
   "id": "f7b6c3a0-5704-4f8f-ba11-eb1505e2ae39",
   "metadata": {},
   "outputs": [],
   "source": []
  },
  {
   "cell_type": "code",
   "execution_count": null,
   "id": "0f87ea2d-23c7-4d43-a40b-24fad306026e",
   "metadata": {},
   "outputs": [],
   "source": []
  },
  {
   "cell_type": "code",
   "execution_count": null,
   "id": "53cf4335-8c7c-4b60-991c-31eb58f0bf73",
   "metadata": {},
   "outputs": [],
   "source": []
  },
  {
   "cell_type": "code",
   "execution_count": null,
   "id": "f699744b-a45b-41ed-8e93-cf7cacaca0e2",
   "metadata": {},
   "outputs": [],
   "source": []
  },
  {
   "cell_type": "code",
   "execution_count": null,
   "id": "f498ce83-ae7d-4172-b3a2-2c34c89572fc",
   "metadata": {},
   "outputs": [],
   "source": []
  },
  {
   "cell_type": "code",
   "execution_count": null,
   "id": "cc07d60e-be0c-4df6-820b-4504cb6a4761",
   "metadata": {},
   "outputs": [],
   "source": []
  }
 ],
 "metadata": {
  "kernelspec": {
   "display_name": "Python 3 (ipykernel)",
   "language": "python",
   "name": "python3"
  },
  "language_info": {
   "codemirror_mode": {
    "name": "ipython",
    "version": 3
   },
   "file_extension": ".py",
   "mimetype": "text/x-python",
   "name": "python",
   "nbconvert_exporter": "python",
   "pygments_lexer": "ipython3",
   "version": "3.11.7"
  }
 },
 "nbformat": 4,
 "nbformat_minor": 5
}
